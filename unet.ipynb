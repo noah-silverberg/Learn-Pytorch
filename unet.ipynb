{
 "cells": [
  {
   "cell_type": "code",
   "execution_count": 1,
   "id": "b580e16b",
   "metadata": {},
   "outputs": [],
   "source": [
    "# 🧠 U-NET FOR IMAGE DENOISING (MNIST)\n",
    "# =====================================\n",
    "# Task: Remove synthetic noise from MNIST digits using a simple U-Net.\n",
    "# =====================================\n",
    "\n",
    "import torch\n",
    "import torch.nn as nn\n",
    "import torch.optim as optim\n",
    "from torchvision import datasets, transforms\n",
    "from torch.utils.data import DataLoader\n",
    "import matplotlib.pyplot as plt\n",
    "from tqdm import tqdm\n",
    "\n",
    "# Set reproducibility\n",
    "torch.manual_seed(42)\n",
    "\n",
    "# Prepare noisy MNIST dataset\n",
    "class NoisyMNIST(torch.utils.data.Dataset):\n",
    "    def __init__(self, train=True):\n",
    "        self.data = datasets.MNIST(\"data\", train=train, download=True, transform=transforms.ToTensor())\n",
    "\n",
    "    def __getitem__(self, idx):\n",
    "        clean_img, _ = self.data[idx]\n",
    "        noise = torch.randn_like(clean_img) * 0.5\n",
    "        noisy_img = torch.clamp(clean_img + noise, 0., 1.)\n",
    "        return noisy_img, clean_img\n",
    "\n",
    "    def __len__(self):\n",
    "        return len(self.data)\n",
    "\n",
    "train_loader = DataLoader(NoisyMNIST(train=True), batch_size=64, shuffle=True)\n",
    "test_loader = DataLoader(NoisyMNIST(train=False), batch_size=64)"
   ]
  },
  {
   "cell_type": "code",
   "execution_count": 2,
   "id": "5fbdc34a",
   "metadata": {},
   "outputs": [],
   "source": [
    "class UNet(nn.Module):\n",
    "    def __init__(self):\n",
    "        super().__init__()\n",
    "\n",
    "        def CBR(in_ch, out_ch):  # Conv → BatchNorm → ReLU\n",
    "            return nn.Sequential(\n",
    "                nn.Conv2d(in_ch, out_ch, 3, padding=1),\n",
    "                nn.BatchNorm2d(out_ch),\n",
    "                nn.ReLU(inplace=True)\n",
    "            )\n",
    "\n",
    "        # Encoder\n",
    "        self.enc1 = nn.Sequential(CBR(1, 32), CBR(32, 32))\n",
    "        self.enc2 = nn.Sequential(CBR(32, 64), CBR(64, 64))\n",
    "        self.pool = nn.MaxPool2d(2)\n",
    "\n",
    "        # Bottleneck\n",
    "        self.bottleneck = nn.Sequential(CBR(64, 128), CBR(128, 128))\n",
    "\n",
    "        # Decoder\n",
    "        self.up1 = nn.ConvTranspose2d(128, 64, kernel_size=2, stride=2)\n",
    "        self.dec1 = nn.Sequential(CBR(128, 64), CBR(64, 64))\n",
    "\n",
    "        self.up2 = nn.ConvTranspose2d(64, 32, kernel_size=2, stride=2)\n",
    "        self.dec2 = nn.Sequential(CBR(64, 32), CBR(32, 32))\n",
    "\n",
    "        self.final = nn.Conv2d(32, 1, kernel_size=1)\n",
    "\n",
    "    def forward(self, x):\n",
    "        e1 = self.enc1(x)  # [B, 32, 28, 28]\n",
    "        e2 = self.enc2(self.pool(e1))  # [B, 64, 14, 14]\n",
    "\n",
    "        b = self.bottleneck(self.pool(e2))  # [B, 128, 7, 7]\n",
    "\n",
    "        d1 = self.up1(b)  # [B, 64, 14, 14]\n",
    "        d1 = self.dec1(torch.cat([d1, e2], dim=1))  # skip connection\n",
    "\n",
    "        d2 = self.up2(d1)  # [B, 32, 28, 28]\n",
    "        d2 = self.dec2(torch.cat([d2, e1], dim=1))\n",
    "\n",
    "        return torch.sigmoid(self.final(d2))  # Keep in [0, 1]"
   ]
  },
  {
   "cell_type": "code",
   "execution_count": 3,
   "id": "d79041d6",
   "metadata": {},
   "outputs": [
    {
     "name": "stderr",
     "output_type": "stream",
     "text": [
      "100%|██████████| 938/938 [05:09<00:00,  3.03it/s]\n"
     ]
    },
    {
     "name": "stdout",
     "output_type": "stream",
     "text": [
      "Epoch 1, Loss: 0.0263\n"
     ]
    },
    {
     "name": "stderr",
     "output_type": "stream",
     "text": [
      "100%|██████████| 938/938 [05:06<00:00,  3.06it/s]\n"
     ]
    },
    {
     "name": "stdout",
     "output_type": "stream",
     "text": [
      "Epoch 2, Loss: 0.0090\n"
     ]
    },
    {
     "name": "stderr",
     "output_type": "stream",
     "text": [
      "100%|██████████| 938/938 [05:19<00:00,  2.94it/s]\n"
     ]
    },
    {
     "name": "stdout",
     "output_type": "stream",
     "text": [
      "Epoch 3, Loss: 0.0085\n"
     ]
    },
    {
     "name": "stderr",
     "output_type": "stream",
     "text": [
      "100%|██████████| 938/938 [05:03<00:00,  3.09it/s]\n"
     ]
    },
    {
     "name": "stdout",
     "output_type": "stream",
     "text": [
      "Epoch 4, Loss: 0.0083\n"
     ]
    },
    {
     "name": "stderr",
     "output_type": "stream",
     "text": [
      "100%|██████████| 938/938 [05:04<00:00,  3.08it/s]"
     ]
    },
    {
     "name": "stdout",
     "output_type": "stream",
     "text": [
      "Epoch 5, Loss: 0.0081\n"
     ]
    },
    {
     "name": "stderr",
     "output_type": "stream",
     "text": [
      "\n"
     ]
    }
   ],
   "source": [
    "device = torch.device(\"cuda\" if torch.cuda.is_available() else \"cpu\")\n",
    "model = UNet().to(device)\n",
    "optimizer = optim.Adam(model.parameters(), lr=1e-3)\n",
    "loss_fn = nn.MSELoss()\n",
    "\n",
    "for epoch in range(5):\n",
    "    model.train()\n",
    "    total_loss = 0\n",
    "    for noisy, clean in tqdm(train_loader):\n",
    "        noisy, clean = noisy.to(device), clean.to(device)\n",
    "        pred = model(noisy)\n",
    "        loss = loss_fn(pred, clean)\n",
    "        optimizer.zero_grad()\n",
    "        loss.backward()\n",
    "        optimizer.step()\n",
    "        total_loss += loss.item()\n",
    "    print(f\"Epoch {epoch+1}, Loss: {total_loss / len(train_loader):.4f}\")"
   ]
  },
  {
   "cell_type": "code",
   "execution_count": 22,
   "id": "6bf569ab",
   "metadata": {},
   "outputs": [
    {
     "name": "stdout",
     "output_type": "stream",
     "text": [
      "Model saved to  unet_checkpoints/unet_mnist.pth\n"
     ]
    }
   ],
   "source": [
    "# Save entire model + optimizer state (for resuming training or inference)\n",
    "checkpoint = {\n",
    "    'model_state_dict': model.state_dict(),\n",
    "    'optimizer_state_dict': optimizer.state_dict()\n",
    "}\n",
    "import os\n",
    "if not os.path.exists(\"unet_checkpoints\"):\n",
    "    os.makedirs(\"unet_checkpoints\")\n",
    "path = \"unet_checkpoints/unet_mnist.pth\"\n",
    "torch.save(checkpoint, path)\n",
    "print(\"Model saved to \", path)"
   ]
  },
  {
   "cell_type": "code",
   "execution_count": 19,
   "id": "5709ed62",
   "metadata": {},
   "outputs": [
    {
     "data": {
      "image/png": "[encoded data removed]",
      "text/plain": [
       "<Figure size 1200x400 with 15 Axes>"
      ]
     },
     "metadata": {},
     "output_type": "display_data"
    }
   ],
   "source": [
    "model.eval()\n",
    "noisy_batch, clean_batch = next(iter(test_loader))\n",
    "noisy_batch = noisy_batch.to(device)\n",
    "with torch.no_grad():\n",
    "    denoised = model(noisy_batch).cpu()\n",
    "\n",
    "plt.figure(figsize=(12, 4))\n",
    "for i in range(5):\n",
    "    for j, img in enumerate([noisy_batch.cpu(), denoised, clean_batch]):\n",
    "        plt.subplot(3, 5, i + 1 + j * 5)\n",
    "        plt.imshow(img[i][0], cmap=\"gray\")\n",
    "        plt.axis(\"off\")\n",
    "        if i == 0:\n",
    "            plt.ylabel([\"Noisy\", \"Denoised\", \"Clean\"][j])\n",
    "plt.suptitle(\"U-Net Denoising Example\", fontsize=14)\n",
    "plt.tight_layout()\n",
    "plt.show()"
   ]
  }
 ],
 "metadata": {
  "kernelspec": {
   "display_name": "numpy",
   "language": "python",
   "name": "python3"
  },
  "language_info": {
   "codemirror_mode": {
    "name": "ipython",
    "version": 3
   },
   "file_extension": ".py",
   "mimetype": "text/x-python",
   "name": "python",
   "nbconvert_exporter": "python",
   "pygments_lexer": "ipython3",
   "version": "3.10.14"
  }
 },
 "nbformat": 4,
 "nbformat_minor": 5
}
