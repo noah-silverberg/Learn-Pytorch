{
 "cells": [
  {
   "cell_type": "code",
   "execution_count": 1,
   "id": "921658b0",
   "metadata": {},
   "outputs": [
    {
     "data": {
      "text/plain": [
       "<torch._C.Generator at 0x105fa3850>"
      ]
     },
     "execution_count": 1,
     "metadata": {},
     "output_type": "execute_result"
    }
   ],
   "source": [
    "# 🧠 CNN FOR MNIST DIGIT CLASSIFICATION\n",
    "# ============================================\n",
    "# GOAL: Train a convolutional neural network to classify 28x28 images\n",
    "# of handwritten digits (0–9) from the MNIST dataset.\n",
    "# ============================================\n",
    "\n",
    "import torch\n",
    "import torch.nn as nn\n",
    "import torch.nn.functional as F\n",
    "import torch.optim as optim\n",
    "from torchvision import datasets, transforms\n",
    "import matplotlib.pyplot as plt\n",
    "\n",
    "# Set seed for reproducibility\n",
    "torch.manual_seed(42)"
   ]
  },
  {
   "cell_type": "code",
   "execution_count": 2,
   "id": "6ed103a8",
   "metadata": {},
   "outputs": [
    {
     "name": "stderr",
     "output_type": "stream",
     "text": [
      "100%|██████████| 9.91M/9.91M [00:00<00:00, 13.6MB/s]\n",
      "100%|██████████| 28.9k/28.9k [00:00<00:00, 307kB/s]\n",
      "100%|██████████| 1.65M/1.65M [00:00<00:00, 3.44MB/s]\n",
      "100%|██████████| 4.54k/4.54k [00:00<00:00, 1.35MB/s]\n"
     ]
    }
   ],
   "source": [
    "# STEP 1: LOAD MNIST DATA\n",
    "\n",
    "# Transform: convert image to tensor and normalize to [0, 1]\n",
    "transform = transforms.ToTensor()\n",
    "\n",
    "# Download training and test sets\n",
    "train_data = datasets.MNIST(root='data', train=True, download=True, transform=transform)\n",
    "test_data = datasets.MNIST(root='data', train=False, download=True, transform=transform)\n",
    "\n",
    "# Create DataLoaders to batch and shuffle data\n",
    "train_loader = torch.utils.data.DataLoader(train_data, batch_size=64, shuffle=True)\n",
    "test_loader = torch.utils.data.DataLoader(test_data, batch_size=1000)"
   ]
  },
  {
   "cell_type": "code",
   "execution_count": 8,
   "id": "c86bf00a",
   "metadata": {},
   "outputs": [
    {
     "name": "stdout",
     "output_type": "stream",
     "text": [
      "CNN(\n",
      "  (conv1): Conv2d(1, 8, kernel_size=(3, 3), stride=(1, 1), padding=(1, 1))\n",
      "  (conv2): Conv2d(8, 16, kernel_size=(3, 3), stride=(1, 1), padding=(1, 1))\n",
      "  (fc): Linear(in_features=784, out_features=10, bias=True)\n",
      ")\n"
     ]
    }
   ],
   "source": [
    "# STEP 2: DEFINE A SIMPLE CNN MODEL\n",
    "\n",
    "class CNN(nn.Module):\n",
    "    def __init__(self):\n",
    "        super().__init__()\n",
    "        # First conv layer: in=1 (grayscale), out=8 filters, kernel=3x3\n",
    "        self.conv1 = nn.Conv2d(in_channels=1, out_channels=8, kernel_size=3, padding=1)\n",
    "        # Second conv layer: in=8, out=16\n",
    "        self.conv2 = nn.Conv2d(8, 16, 3, padding=1)\n",
    "        # Fully connected layer: 16 channels × 7x7 spatial size → 10 outputs\n",
    "        self.fc = nn.Linear(16 * 7 * 7, 10)\n",
    "\n",
    "    def forward(self, x):\n",
    "        x = F.relu(self.conv1(x))        # shape: (batch, 8, 28, 28)\n",
    "        x = F.max_pool2d(x, 2)           # → (batch, 8, 14, 14)\n",
    "        x = F.relu(self.conv2(x))        # → (batch, 16, 14, 14)\n",
    "        x = F.max_pool2d(x, 2)           # → (batch, 16, 7, 7)\n",
    "        x = x.view(x.size(0), -1)        # flatten: (batch, 16*7*7)\n",
    "        x = self.fc(x)                   # → (batch, 10) raw class scores (logits)\n",
    "        return x\n",
    "\n",
    "model = CNN()\n",
    "print(model)"
   ]
  },
  {
   "cell_type": "code",
   "execution_count": 9,
   "id": "0fd4828a",
   "metadata": {},
   "outputs": [],
   "source": [
    "# STEP 3: DEFINE LOSS AND OPTIMIZER\n",
    "\n",
    "loss_fn = nn.CrossEntropyLoss()              # for multi-class classification\n",
    "optimizer = optim.Adam(model.parameters(), lr=0.001)"
   ]
  },
  {
   "cell_type": "code",
   "execution_count": 10,
   "id": "369ef464",
   "metadata": {},
   "outputs": [
    {
     "name": "stdout",
     "output_type": "stream",
     "text": [
      "Epoch 1, Loss = 0.3232\n",
      "Epoch 2, Loss = 0.0947\n",
      "Epoch 3, Loss = 0.0702\n",
      "Epoch 4, Loss = 0.0578\n",
      "Epoch 5, Loss = 0.0504\n"
     ]
    }
   ],
   "source": [
    "# STEP 4: TRAINING LOOP\n",
    "\n",
    "num_epochs = 5\n",
    "for epoch in range(num_epochs):\n",
    "    model.train()\n",
    "    total_loss = 0\n",
    "    for images, labels in train_loader:\n",
    "        preds = model(images)               # shape (batch, 10)\n",
    "        loss = loss_fn(preds, labels)       # labels are integers [0–9]\n",
    "\n",
    "        optimizer.zero_grad()\n",
    "        loss.backward()\n",
    "        optimizer.step()\n",
    "\n",
    "        total_loss += loss.item()\n",
    "\n",
    "    avg_loss = total_loss / len(train_loader)\n",
    "    print(f\"Epoch {epoch+1}, Loss = {avg_loss:.4f}\")"
   ]
  },
  {
   "cell_type": "code",
   "execution_count": 11,
   "id": "d351f740",
   "metadata": {},
   "outputs": [
    {
     "name": "stdout",
     "output_type": "stream",
     "text": [
      "Test Accuracy: 98.36%\n"
     ]
    }
   ],
   "source": [
    "# STEP 5: EVALUATE ACCURACY ON TEST SET\n",
    "\n",
    "model.eval()\n",
    "correct = 0\n",
    "total = 0\n",
    "\n",
    "with torch.no_grad():\n",
    "    for images, labels in test_loader:\n",
    "        output = model(images)\n",
    "        pred_labels = output.argmax(dim=1)  # get index of max logit\n",
    "        correct += (pred_labels == labels).sum().item()\n",
    "        total += labels.size(0)\n",
    "\n",
    "accuracy = correct / total\n",
    "print(f\"Test Accuracy: {accuracy * 100:.2f}%\")"
   ]
  },
  {
   "cell_type": "code",
   "execution_count": 12,
   "id": "41fdb669",
   "metadata": {},
   "outputs": [
    {
     "data": {
      "image/png": "[encoded data removed]",
      "text/plain": [
       "<Figure size 640x480 with 6 Axes>"
      ]
     },
     "metadata": {},
     "output_type": "display_data"
    }
   ],
   "source": [
    "# STEP 6: VISUALIZE A FEW PREDICTIONS\n",
    "\n",
    "images, labels = next(iter(test_loader))\n",
    "with torch.no_grad():\n",
    "    outputs = model(images)\n",
    "    preds = outputs.argmax(dim=1)\n",
    "\n",
    "# Plot first 6 predictions\n",
    "for i in range(6):\n",
    "    plt.subplot(1, 6, i + 1)\n",
    "    plt.imshow(images[i][0], cmap=\"gray\")\n",
    "    plt.title(f\"Pred: {preds[i].item()}\")\n",
    "    plt.axis(\"off\")\n",
    "plt.show()"
   ]
  }
 ],
 "metadata": {
  "kernelspec": {
   "display_name": "numpy",
   "language": "python",
   "name": "python3"
  },
  "language_info": {
   "codemirror_mode": {
    "name": "ipython",
    "version": 3
   },
   "file_extension": ".py",
   "mimetype": "text/x-python",
   "name": "python",
   "nbconvert_exporter": "python",
   "pygments_lexer": "ipython3",
   "version": "3.10.14"
  }
 },
 "nbformat": 4,
 "nbformat_minor": 5
}
